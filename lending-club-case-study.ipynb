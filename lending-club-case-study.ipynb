{
 "cells": [
  {
   "cell_type": "code",
   "execution_count": null,
   "metadata": {},
   "outputs": [],
   "source": [
    "## import libraries\n",
    "import numpy as np\n",
    "import pandas as pd\n",
    "import seaborn as sns\n",
    "import warnings\n",
    "warnings.filterwarnings('ignore')\n",
    "#Read a comma-separated values (csv) file into DataFrame.\n",
    "loanInfo = pd.read_csv(\"loan.csv\")\n",
    "# This function returns the first n rows for the object based on position, \n",
    "# default value is 5 hence first 5 rows\n",
    "loanInfo.head()"
   ]
  },
  {
   "cell_type": "code",
   "execution_count": null,
   "metadata": {},
   "outputs": [],
   "source": [
    "# It generates descriptive statistics.\n",
    "loanInfo.describe()"
   ]
  },
  {
   "cell_type": "code",
   "execution_count": null,
   "metadata": {},
   "outputs": [],
   "source": [
    "# This method prints information about a DataFrame including \n",
    "# the index dtype and columns, non-null values and memory usage.\n",
    "loanInfo.info()"
   ]
  },
  {
   "cell_type": "code",
   "execution_count": null,
   "metadata": {},
   "outputs": [],
   "source": [
    "loanInfo.shape"
   ]
  },
  {
   "cell_type": "code",
   "execution_count": null,
   "metadata": {},
   "outputs": [],
   "source": [
    "# it detects missing values.\n",
    "loanInfo.isnull().sum()"
   ]
  },
  {
   "cell_type": "code",
   "execution_count": null,
   "metadata": {},
   "outputs": [],
   "source": [
    "# As one can see that there are many Null Values \n",
    "# hence as part of good practice first task would be to remove all the Null values\n",
    "# so we will use dropna() function on data frame i.e. loanInfo.\n",
    "# it removes missing values.\n",
    "# - axis = 1 means column \n",
    "# - how = all’ : If all values are NA, drop that row or column.\n",
    "# - inplace = True : modify the DataFrame \n",
    "loanInfo.dropna(axis = 1, how = 'all', inplace = True)\n",
    "loanInfo.head()"
   ]
  },
  {
   "cell_type": "code",
   "execution_count": null,
   "metadata": {},
   "outputs": [],
   "source": [
    "loanInfo.info()"
   ]
  },
  {
   "cell_type": "code",
   "execution_count": null,
   "metadata": {},
   "outputs": [],
   "source": [
    "\n",
    "# loanInfo.drop(['pymnt_plan', \"initial_list_status\",'collections_12_mths_ex_med','policy_code','acc_now_delinq', 'application_type', 'pub_rec_bankruptcies', 'tax_liens', 'delinq_amnt'], axis = 1, inplace = True)\n",
    "loanInfo.drop(['collections_12_mths_ex_med','policy_code','application_type', 'acc_now_delinq','delinq_amnt','tax_liens'], axis = 1, inplace = True)\n",
    "loanInfo.head()"
   ]
  },
  {
   "cell_type": "code",
   "execution_count": null,
   "metadata": {},
   "outputs": [],
   "source": [
    "loanInfo.info()\n",
    "loanInfo.drop(['pub_rec_bankruptcies'], axis = 1, inplace = True)\n",
    "loanInfo.head()"
   ]
  },
  {
   "cell_type": "code",
   "execution_count": null,
   "metadata": {},
   "outputs": [],
   "source": [
    "loanInfo.info()\n",
    "loanInfo.drop(['pymnt_plan','initial_list_status'], axis = 1, inplace = True)\n",
    "loanInfo.head()"
   ]
  },
  {
   "cell_type": "code",
   "execution_count": null,
   "metadata": {},
   "outputs": [],
   "source": [
    "loanInfo.info()\n",
    "# Few columns such as \"id\", \"member_id\", \"url\", \"title\", \"emp_title\", \"zip_code\", \"last_credit_pull_d\", \"addr_state\". \n",
    "# are off no use while analyzing the user details and the driving factors of loan defaulting before approving loan\n",
    "# Its good to avoid them from data frame\n",
    "loanInfo.drop([\"id\", \"member_id\", \"url\", \"title\", \"emp_title\", \"zip_code\", \"last_credit_pull_d\", \"addr_state\"], axis = 1, inplace = True)\n",
    "loanInfo.head()"
   ]
  },
  {
   "cell_type": "code",
   "execution_count": null,
   "metadata": {},
   "outputs": [],
   "source": [
    "loanInfo.info()"
   ]
  },
  {
   "cell_type": "code",
   "execution_count": null,
   "metadata": {},
   "outputs": [],
   "source": [
    "# \"desc\" primarily a text data which is not useful at present hence better to remove it.\n",
    "# \"funded_amnt\" vs \"funded_amnt_inv\" , earlier one is not needed because we only need info as to how much is funded in actual, hence remove funded_amnt\n",
    "# \"out_prncp_inv\" and \"total_pymnt_inv\" are not required while loan defaulting analysis hence removing \n",
    "loanInfo.drop([\"desc\",\"funded_amnt\",\"out_prncp_inv\",\"total_pymnt_inv\"], axis = 1, inplace = True)\n",
    "loanInfo.head()\n",
    "loanInfo.info()"
   ]
  },
  {
   "cell_type": "code",
   "execution_count": null,
   "metadata": {},
   "outputs": [],
   "source": [
    "#  There are few columns which are not required for Pre Loan approval analysis hence better to drop them\n",
    "loanInfo.drop([\"delinq_2yrs\", \"revol_bal\", \"out_prncp\", \"total_pymnt\", \"total_rec_prncp\", \"total_rec_int\", \"total_rec_late_fee\", \"recoveries\", \"mths_since_last_delinq\", \"mths_since_last_record\",\"collection_recovery_fee\",\"last_pymnt_d\", \"last_pymnt_amnt\",\"next_pymnt_d\",\"chargeoff_within_12_mths\"], axis = 1, inplace = True)\n",
    "loanInfo.head()\n",
    "loanInfo.info()"
   ]
  },
  {
   "cell_type": "code",
   "execution_count": null,
   "metadata": {},
   "outputs": [],
   "source": [
    "(loanInfo.loan_status.value_counts()*100)/len(loanInfo)\n",
    "loanInfo.loan_status.unique()\n"
   ]
  },
  {
   "cell_type": "code",
   "execution_count": null,
   "metadata": {},
   "outputs": [],
   "source": [
    "# Knock off any load which is ongoing hence it wont help us anyways as loan payment is under progress\n",
    "loanInfo = loanInfo[loanInfo.loan_status != \"Current\"]\n",
    "loanInfo.loan_status.unique()"
   ]
  },
  {
   "cell_type": "code",
   "execution_count": null,
   "metadata": {},
   "outputs": [],
   "source": [
    "# Check missing values\n",
    "(loanInfo.isna().sum()/len(loanInfo.index))*100"
   ]
  },
  {
   "cell_type": "code",
   "execution_count": null,
   "metadata": {},
   "outputs": [],
   "source": [
    "print(\"Mode : \" + loanInfo.emp_length.mode()[0])\n",
    "loanInfo.emp_length.value_counts()"
   ]
  },
  {
   "cell_type": "code",
   "execution_count": null,
   "metadata": {},
   "outputs": [],
   "source": [
    "# Mode value which is 1-+ years has 8488 which is much higher than next value i.e. <1 year> so its safe to say that we can replace all null values with Mode values\n",
    "loanInfo.emp_length.fillna(loanInfo.emp_length.mode()[0], inplace = True)\n",
    "loanInfo.emp_length.isna().sum()"
   ]
  },
  {
   "cell_type": "code",
   "execution_count": null,
   "metadata": {},
   "outputs": [],
   "source": [
    "(loanInfo.isna().sum()/len(loanInfo.index))*100"
   ]
  },
  {
   "cell_type": "code",
   "execution_count": null,
   "metadata": {},
   "outputs": [],
   "source": [
    "# evol_util   39667 non-null  object which has continuous values\n",
    "loanInfo.dropna(axis = 0, subset = ['revol_util'] , inplace = True)\n",
    "loanInfo.revol_util.isna().sum()"
   ]
  },
  {
   "cell_type": "code",
   "execution_count": null,
   "metadata": {},
   "outputs": [],
   "source": [
    "(loanInfo.isna().sum()/len(loanInfo.index))*100"
   ]
  },
  {
   "cell_type": "code",
   "execution_count": null,
   "metadata": {},
   "outputs": [],
   "source": [
    "loanInfo.revol_util = pd.to_numeric(loanInfo.revol_util.apply(lambda x : x.split('%')[0]))\n",
    "loanInfo.int_rate = pd.to_numeric(loanInfo.int_rate.apply(lambda x : x.split('%')[0]))\n",
    "loanInfo.emp_length = pd.to_numeric(loanInfo.emp_length.apply(lambda x: 0 if \"<\" in x else (x.split('+')[0] if \"+\" in x else x.split()[0])))\n",
    "loanInfo.head()"
   ]
  },
  {
   "cell_type": "code",
   "execution_count": null,
   "metadata": {},
   "outputs": [],
   "source": [
    "# Lets take a look on important variable loan status in total loans issued\n",
    "(loanInfo.loan_status.value_counts()*100)/len(loanInfo)"
   ]
  },
  {
   "cell_type": "code",
   "execution_count": null,
   "metadata": {},
   "outputs": [],
   "source": [
    "# Lets take a look on important variable purpose of loan in total loans issued\n",
    "\n",
    "(loanInfo.purpose.value_counts()*100)/len(loanInfo)"
   ]
  },
  {
   "cell_type": "markdown",
   "metadata": {},
   "source": [
    "Univariate Analysis -"
   ]
  },
  {
   "cell_type": "code",
   "execution_count": null,
   "metadata": {},
   "outputs": [],
   "source": [
    "loanInfo['loan_amnt'].describe()"
   ]
  },
  {
   "cell_type": "code",
   "execution_count": null,
   "metadata": {},
   "outputs": [],
   "source": [
    "sns.boxplot(x=loanInfo.annual_inc)"
   ]
  },
  {
   "cell_type": "code",
   "execution_count": null,
   "metadata": {},
   "outputs": [],
   "source": [
    "quantile_info = loanInfo.annual_inc.quantile([0.5, 0.75,0.90, 0.95, 0.97,0.98, 0.99])\n",
    "quantile_info"
   ]
  },
  {
   "cell_type": "code",
   "execution_count": null,
   "metadata": {},
   "outputs": [],
   "source": [
    "per_95_annual_inc = loanInfo['annual_inc'].quantile(0.95)\n",
    "loanInfo = loanInfo[loanInfo.annual_inc <= per_95_annual_inc]\n",
    "sns.boxplot(x=loanInfo.annual_inc)"
   ]
  }
 ],
 "metadata": {
  "kernelspec": {
   "display_name": "Python 3",
   "language": "python",
   "name": "python3"
  },
  "language_info": {
   "codemirror_mode": {
    "name": "ipython",
    "version": 3
   },
   "file_extension": ".py",
   "mimetype": "text/x-python",
   "name": "python",
   "nbconvert_exporter": "python",
   "pygments_lexer": "ipython3",
   "version": "3.9.6"
  }
 },
 "nbformat": 4,
 "nbformat_minor": 2
}
